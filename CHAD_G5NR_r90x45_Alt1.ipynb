{
 "cells": [
  {
   "cell_type": "markdown",
   "metadata": {},
   "source": [
    "# Clickable Histogram of Atmospheric Data (CHAD)\n",
    "## for GEOS-5 Nature Run, 4-degree coarse grained stats"
   ]
  },
  {
   "cell_type": "markdown",
   "metadata": {},
   "source": [
    "## Operating procedure: \n",
    ">1. Select region and variables, and name your Journals accordingly\n",
    ">2. Select template bundle size and complexity\n",
    ">2. Set up scatterplot size \n",
    ">3. Click on scatterplot. Details of the nearest point is shown in console. \n",
    ">4. Second click on that point will create a Journal page with browse imagery, and also an IDV bundle centered on the region of your datapoint. \n",
    ">5. Journal page (in Outputs/...) is itself a PyIDV notebook to capture views and commentary from the IDV bundle, whose name matches and is pre-entered in the Journal page's openBundle command. Select it from your Jupyter \"Home\" browser tab and you are rolling. \n",
    ">6. If the .xidv loading time is too long for your taste, a .isl file with the same name has also been created. Launching it will create an IDV process offline (without a GUI) to fetch and render the data and create a .zidv bundle, image, and movie. "
   ]
  },
  {
   "cell_type": "markdown",
   "metadata": {},
   "source": [
    "### 1. Select region and variables, and name your Case Notebook accordingly"
   ]
  },
  {
   "cell_type": "code",
   "execution_count": null,
   "metadata": {
    "collapsed": true
   },
   "outputs": [],
   "source": [
    "caseNotebookFilename = 'G5NR_Florida_W500_ZSKEDot_4deg_hourly'\n",
    "\n",
    "# Regions to be loaded from the file, All must be defined\n",
    "# lon in degE (0 to 360), lat in degN (-90 to 90)\n",
    "\n",
    "lonLow = 360.-88.\n",
    "lonHigh = 360.-80.\n",
    "latLow = 24.0\n",
    "latHigh = 32.0\n",
    "\n",
    "# Coarse grid variables characterizing 4deg regions of the Nature Run\n",
    "# Options: Precip, W500, wPuP, TEEF = Total Eddy Enthalpy Flux, \n",
    "# ZSKEDot = Zonal shear kinetic energy tendency due to eddy momentum flux, \n",
    "# HMV = \n",
    "\n",
    "var1Name = 'W500'\n",
    "var2Name = 'ZSKEDot'\n",
    "\n",
    "# Read the file\n",
    "# This is the pathname for the coarse-grid data to scatterplot. \n",
    "# --- 1 hourly data ---\n",
    "# urlToLoad = ('https://weather.rsmas.miami.edu/repository/'+\n",
    "#            'opendap/synth:eab82de2-d682-4dc0-ba8b-2fac7746d269:'+\n",
    "#            'L2FsbFZhcnNfcjkweDQ1XzEubmM0/entry.das')\n",
    "# ---  3 hourly data ---\n",
    "#urlToLoad = ('https://weather.rsmas.miami.edu/repository/'+\n",
    "#             'opendap/synth:eab82de2-d682-4dc0-ba8b-2fac7746d269:'+\n",
    "#             'L2FsbFZhcnNfcjkweDQ1XzMubmM0/entry.das')\n",
    "# --- 6 hourly data ---\n",
    "urlToLoad = ('https://weather.rsmas.miami.edu/repository/'+\n",
    "             'opendap/synth:eab82de2-d682-4dc0-ba8b-2fac7746d269:'+\n",
    "             'L2FsbFZhcnNfcjkweDQ1XzYubmM0/entry.das')\n",
    "\n",
    "# datetime for setting the first data point's time\n",
    "# More accurately, the starting point for counting\n",
    "# for the time variable later on. This might be different\n",
    "# from the time of the first data if timeValues[0] is not 0.\n",
    "import datetime\n",
    "startYear = 2005\n",
    "startMonth = 5\n",
    "startDay = 16\n",
    "startHour = 0\n",
    "startMinute = 30\n",
    "startSecond = 0\n",
    "startDatetime = datetime.datetime(startYear,startMonth,startDay,\n",
    "                                  startHour,startMinute,startSecond)"
   ]
  },
  {
   "cell_type": "markdown",
   "metadata": {},
   "source": [
    "### 3. Choose template bundle: simple, or more complex? How large, how long? "
   ]
  },
  {
   "cell_type": "code",
   "execution_count": null,
   "metadata": {
    "collapsed": true
   },
   "outputs": [],
   "source": [
    "# Name of bundle template - assumed to be in Outputs/templates\n",
    "bundleInFilename = 'ClickHist_NewAggG5NRtemplate_smallarea.xidv'\n",
    "#bundleInFilename = 'testSimple.xidv'\n",
    "\n",
    "# Setting parameters for window size and time span of IDV bundle\n",
    "lonOffset=1.0\n",
    "latOffset=1.0\n",
    "dtFromCenter=3*3600"
   ]
  },
  {
   "cell_type": "markdown",
   "metadata": {},
   "source": [
    "### 3. Setup scatterplot window of desired size"
   ]
  },
  {
   "cell_type": "code",
   "execution_count": null,
   "metadata": {
    "collapsed": false
   },
   "outputs": [],
   "source": [
    "# Scatterplot Size and Resolution\n",
    "# Set the figure x by y resolution, DPI, and the max number of points\n",
    "# to appear in a given bin\n",
    "# (Plotting time as well as finding an individual event prohibitive\n",
    "# for very large maxPlottedInBin values)\n",
    "# (These are OPTIONAL inputs to ClickHist: figX=?, figY=?,\n",
    "# figDPI=?, maxPlottedInBin=?)\n",
    "figureXSize = 800\n",
    "figureYSize = 800\n",
    "figDPI = 150\n",
    "maxPlottedInBin_UD = 1000\n",
    "\n",
    "fmtStrOptions = {'Precip':\"{:3.0f}\", 'W500':\"{:0.3f}\", 'wPuP':\"{:0.2f}\",\n",
    "                 'TEEF':\"{:3.0f}\", 'HMV':\"{:2.0f}\", 'ZSKEDot':\"{:0.3f}\"}\n",
    "\n",
    "valueNameOptions = {'Precip': 'PREC','W500': 'W','wPuP': 'WPUP',\n",
    "                    'TEEF': 'TEEF','HMV': 'HMV','ZSKEDot': 'ZSKEDOT'}\n",
    "\n",
    "varUnitOptions = {'Precip': 'mm day-1','W500': 'm s-1','wPuP': 'm2 s-2',\n",
    "                  'TEEF': 'J m kg-1 s-1','HMV': 'm2 s-2',\n",
    "                  'ZSKEDot': 'm2 s-3 (x 10^-3)'}\n",
    "\n",
    "varMultOptions = {'Precip': 86400.,'W500': 1.,'wPuP': 1.,\n",
    "                  'TEEF': 1.,'HMV': 1.,'ZSKEDot': 1000.}\n",
    "\n",
    "import numpy as np\n",
    "binOptions = {'Precip': np.array([0.,1.,11.,21.,31.,41.,51.,\n",
    "                                  61.,71.,81.,91.,101.,250.]),\n",
    "              'W500': np.array([-0.5,-0.135,-0.105,-0.075,-0.045,-0.015,\n",
    "                                 0.015,0.045,0.075,0.105,0.135,0.165,0.5]),\n",
    "              'wPuP': np.array([-0.5,-0.18,-0.14,-0.10,-0.06,-0.02,\n",
    "                                 0.02,0.06,0.10,0.14,0.18,0.22,0.5]),\n",
    "              'TEEF': np.array([-20.,20.,60.,100.,140.,180.,220.,\n",
    "                                 260.,300.,340.,380.,420.,1000.]),\n",
    "              'HMV': np.array([0.,4.,8.,12.,16.,20.,24.,\n",
    "                               28.,32.,36.,40.,44.,100.]),\n",
    "              'ZSKEDot': np.array([-5.,-1.10,-0.90,-0.70,-0.50,-0.30,-0.10,\n",
    "                                  0.10,0.30,0.50,0.70,0.90,5.])*1.5}\n",
    "\n",
    "# Set Bin Edges\n",
    "var1Edges = binOptions[var1Name]\n",
    "var2Edges = binOptions[var2Name]\n",
    "\n",
    "# Formatting for Output\n",
    "# Basic Help: The number after the decimal point sets the number of\n",
    "# decimal points shown in output\n",
    "# For more on Python string formatting, see:\n",
    "# (https://mkaz.github.io/2012/10/10/python-string-format/)\n",
    "# These are OPTIONAL inputs to ClickHist: xFmtStr=?,yFmtStr=?)\n",
    "var1FmtStr = fmtStrOptions[var1Name]\n",
    "var2FmtStr = fmtStrOptions[var2Name]\n",
    "\n",
    "# Variable names in input file(s) for values\n",
    "var1ValueName = valueNameOptions[var1Name]\n",
    "var2ValueName = valueNameOptions[var2Name]\n",
    "\n",
    "var1Units = varUnitOptions[var1Name]\n",
    "var2Units = varUnitOptions[var2Name]\n",
    "metadata_UD = (var1Name+' vs '+var2Name+': '+\n",
    "               str(lonLow)+' to '+str(lonHigh)+' E, '+\n",
    "               str(latLow)+' to '+str(latHigh)+' N')\n",
    "\n",
    "# Unit correction options\n",
    "# If the units in the input file are not what is desired,\n",
    "# they can be corrected during the load with these multipliers.\n",
    "var1ValueMult = varMultOptions[var1Name]\n",
    "var2ValueMult = varMultOptions[var2Name]"
   ]
  },
  {
   "cell_type": "markdown",
   "metadata": {},
   "source": [
    "#### A bunch of magics and imports necessary for the plot to come up"
   ]
  },
  {
   "cell_type": "code",
   "execution_count": null,
   "metadata": {
    "collapsed": true
   },
   "outputs": [],
   "source": [
    "# Setting the GUI \n",
    "# ClickHist is currently optimized for tk\n",
    "# For more options see section \"%matplotlib\" at\n",
    "# https://ipython.org/ipython-doc/3/interactive/magics.html\n",
    "\n",
    "# matplotlib for graphics, set tk too\n",
    "# %matplotlib osx is experimental\n",
    "%matplotlib tk\n",
    "#%matplotlib osx\n",
    "import matplotlib\n",
    "\n",
    "# (Note: for debugging, replace '%' command with\n",
    "# matplotlib.use)\n",
    "#matplotlib.use('TkAgg')\n",
    "\n",
    "# Modules for fixing the buffer in cell 3 \n",
    "from IPython.display import clear_output\n",
    "import sys\n",
    "\n",
    "# numpy to create the sample input arrays\n",
    "import numpy as np\n",
    "\n",
    "# And obviously import ClickHist and ClickHistDo!\n",
    "import ClickHist_G5NR as ClickHist\n",
    "import ClickHistDo_G5NR as ClickHistDo\n",
    "\n",
    "# User-specified imports\n",
    "# netCDF4 to load the netCDF input file\n",
    "import netCDF4"
   ]
  },
  {
   "cell_type": "markdown",
   "metadata": {},
   "source": [
    "gory details"
   ]
  },
  {
   "cell_type": "code",
   "execution_count": null,
   "metadata": {
    "collapsed": true
   },
   "outputs": [],
   "source": [
    "# Fixing the output so it isn't buffered\n",
    "# See: http://stackoverflow.com/questions/29772158/make-ipython-notebook-print-in-real-time\n",
    "\n",
    "oldsysstdout = sys.stdout\n",
    "class flushfile():\n",
    "    def __init__(self, f):\n",
    "        self.f = f\n",
    "    def __getattr__(self,name): \n",
    "        return object.__getattribute__(self.f, name)\n",
    "    def write(self, x):\n",
    "        self.f.write(x)\n",
    "        self.f.flush()\n",
    "    def flush(self):\n",
    "        self.f.flush()\n",
    "sys.stdout = flushfile(sys.stdout)\n",
    "\n",
    "def getIntEdges(dim,low,high):\n",
    "    lowInt = np.argmin(abs(dim-low))\n",
    "    highInt = np.argmin(abs(dim-high))\n",
    "    return lowInt,highInt"
   ]
  },
  {
   "cell_type": "markdown",
   "metadata": {},
   "source": [
    "### Grabs the coarse data and subsets it. No edits needed, just execute. "
   ]
  },
  {
   "cell_type": "code",
   "execution_count": null,
   "metadata": {
    "collapsed": false
   },
   "outputs": [],
   "source": [
    "# Load the datafile\n",
    "cdfIn = netCDF4.Dataset(urlToLoad,'r')\n",
    "\n",
    "# Get the lat, lon, time data. \n",
    "\n",
    "lonValues = cdfIn.variables['lon'][:]\n",
    "latValues = cdfIn.variables['lat'][:]\n",
    "timeValues = cdfIn.variables['time'][:]\n",
    "\n",
    "# Set time offset & multiplier if time variable is not in desired units\n",
    "timeValueMult = 60\n",
    "timeValueOffset = 0\n",
    "timeValues = timeValues*timeValueMult + timeValueOffset\n",
    "\n",
    "# Based on the lat-lon range selected, subset the values \n",
    "lowLonInt,highLonInt = getIntEdges(lonValues,lonLow,lonHigh)\n",
    "lowLatInt,highLatInt = getIntEdges(latValues,latLow,latHigh)\n",
    "\n",
    "# Bin Edge and Value Data\n",
    "# Later call to create ClickHist uses the below variable names\n",
    "# You should probably leave the names alone\n",
    "#\n",
    "# N.B. that CHAD expects the data to be in the Python format\n",
    "# variable[times,latitudes,longitudes]. If this is not the default,\n",
    "# you will have to permute the data here (or ideally process it to)\n",
    "# match before loading - permutation could potentially take some\n",
    "# time.\n",
    "#\n",
    "#var1Edges = cdfIn.variables[var1EdgeName][:]\n",
    "#var2Edges = cdfIn.variables[var2EdgeName][:]\n",
    "var1Values = cdfIn.variables[var1ValueName][:,\n",
    "                                            lowLatInt:highLatInt+1,\n",
    "                                            lowLonInt:highLonInt+1]*\\\n",
    "                                            var1ValueMult\n",
    "var2Values = cdfIn.variables[var2ValueName][:,\n",
    "                                            lowLatInt:highLatInt+1,\n",
    "                                            lowLonInt:highLonInt+1]*\\\n",
    "                                            var2ValueMult\n",
    "\n",
    "lonValues = lonValues[lowLonInt:highLonInt+1]\n",
    "latValues = latValues[lowLatInt:highLatInt+1]\n",
    "\n",
    "cdfIn.close()"
   ]
  },
  {
   "cell_type": "markdown",
   "metadata": {},
   "source": [
    "### This one actually launches the scatter plot."
   ]
  },
  {
   "cell_type": "code",
   "execution_count": null,
   "metadata": {
    "collapsed": false
   },
   "outputs": [],
   "source": [
    "# Create ClickHist using a proper call\n",
    "\n",
    "# This call is necessary to create the output console for ClickHist\n",
    "# (Note: for debugging, comment out '%' command)\n",
    "%qtconsole\n",
    "\n",
    "# Create a ClickHistDo instance\n",
    "ClickHistDo1 = ClickHistDo.ClickHistDo(lonValues,latValues,\n",
    "                                       timeValues,startDatetime,\n",
    "                                       bundleInFilename,\n",
    "                                       caseNotebookFilename,\n",
    "                                       xVarName=var1Name,\n",
    "                                       yVarName=var2Name,\n",
    "                                       lonOffset=lonOffset,\n",
    "                                       latOffset=latOffset,\n",
    "                                       dtFromCenter=dtFromCenter,\n",
    "                                       openTab=True)\n",
    "# Create a ClickHist instance\n",
    "ClickHist1 = ClickHist.ClickHist(var1Edges,var2Edges,\n",
    "                                 var1Values,var2Values,\n",
    "                                 xVarName=var1Name,yVarName=var2Name,\n",
    "                                 xUnits=var1Units,yUnits=var2Units,\n",
    "                                 xFmtStr=var1FmtStr,\n",
    "                                 yFmtStr=var2FmtStr,\n",
    "                                 maxPlottedInBin=maxPlottedInBin_UD,\n",
    "                                 metadata=metadata_UD)\n",
    "\n",
    "# Set ClickHistDo1 to be the official \"action\" for ClickHist\n",
    "ClickHist1.setDo(ClickHistDo1)\n",
    "\n",
    "# Show the ClickHist\n",
    "ClickHist1.showPlot()"
   ]
  },
  {
   "cell_type": "markdown",
   "metadata": {},
   "source": [
    "# User: now click away!\n",
    ">3. Click on scatterplot. Details of the nearest point is shown in console. \n",
    ">4. Second click on that point will create a Journal page with browse imagery, and also an IDV bundle centered on the region of your datapoint. \n",
    ">5. Case Notebook page (in Outputs/CaseNotebooks/) is itself a PyIDV notebook to capture views and commentary from the IDV bundle, whose name matches and is pre-entered in the Journal page's openBundle command. Select it from your Jupyter \"Home\" browser tab and you are rolling. \n",
    ">6. If the .xidv loading time is too long for your taste, a .isl file with the same name has also been created. Launching it will create an IDV process offline (without a GUI) to fetch and render the data and create a .zidv bundle, image, and movie. "
   ]
  },
  {
   "cell_type": "markdown",
   "metadata": {
    "collapsed": true
   },
   "source": [
    "Author: [Matthew Niznik](http://matthewniznik.com) ([matt@matthewniznik.com](mailto:matt@matthewniznik.com))<br>\n",
    "Post-Doctoral Associate, RSMAS, University of Miami\n",
    "\n",
    "For more information, see:<br>\n",
    "https://github.com/matthewniznik/ClickHist/wiki<br>\n",
    "http://matthewniznik.com/research-projects/clickhist<br>"
   ]
  },
  {
   "cell_type": "code",
   "execution_count": null,
   "metadata": {
    "collapsed": true
   },
   "outputs": [],
   "source": []
  }
 ],
 "metadata": {
  "kernelspec": {
   "display_name": "Python 2",
   "language": "python",
   "name": "python2"
  },
  "language_info": {
   "codemirror_mode": {
    "name": "ipython",
    "version": 2
   },
   "file_extension": ".py",
   "mimetype": "text/x-python",
   "name": "python",
   "nbconvert_exporter": "python",
   "pygments_lexer": "ipython2",
   "version": "2.7.11"
  }
 },
 "nbformat": 4,
 "nbformat_minor": 0
}
